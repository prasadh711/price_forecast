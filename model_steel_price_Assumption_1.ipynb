{
 "cells": [
  {
   "cell_type": "code",
   "execution_count": 1,
   "metadata": {},
   "outputs": [],
   "source": [
    "import pandas as pd\n",
    "import numpy as np\n",
    "\n",
    "import torch\n",
    "import torch.autograd as autograd\n",
    "import torch.nn as nn\n",
    "import torch.optim as optim\n",
    "import torch.nn.functional as F\n",
    "from torch.utils.data import Dataset\n",
    "from torch.utils.data import DataLoader\n",
    "\n",
    "from sklearn.model_selection import train_test_split\n",
    "from sklearn import preprocessing\n",
    "from sklearn.metrics import make_scorer\n",
    "from sklearn.multioutput import MultiOutputRegressor\n",
    "from sklearn.preprocessing import StandardScaler\n",
    "from sklearn import preprocessing\n",
    "from sklearn.model_selection import GridSearchCV\n",
    "\n",
    "import lightgbm as lgb\n",
    "\n",
    "from pylab import rcParams\n",
    "rcParams['figure.figsize'] = 15, 7\n",
    "import seaborn as sns\n",
    "import matplotlib.pyplot as plt\n",
    "\n",
    "from statsmodels.tsa.vector_ar.var_model import VAR\n",
    "from statsmodels.tsa.vector_ar.vecm import coint_johansen\n",
    "\n",
    "import warnings\n",
    "warnings.filterwarnings(\"ignore\")"
   ]
  },
  {
   "cell_type": "markdown",
   "metadata": {},
   "source": [
    "### Assumtion 1: Forecasting\n",
    "$Y_{t \\colon t+n} = f(X_{t-1},X_{t-2}...X_{t-m})$"
   ]
  },
  {
   "cell_type": "code",
   "execution_count": 2,
   "metadata": {},
   "outputs": [],
   "source": [
    "config = {\n",
    "    \"data_filename\" : \"Stainless-Steel-Prices-Forecasty-Assignment.csv\",\n",
    "    \"rolling_window_len\" : 4,\n",
    "    \"prediction_window\"  : 6,\n",
    "    \n",
    "}\n",
    "#prediction_window is the time period you want to make prediction, in months"
   ]
  },
  {
   "cell_type": "code",
   "execution_count": 3,
   "metadata": {},
   "outputs": [],
   "source": [
    "price_data = pd.read_csv(config[\"data_filename\"])"
   ]
  },
  {
   "cell_type": "code",
   "execution_count": 4,
   "metadata": {},
   "outputs": [],
   "source": [
    "def create_train_test_split(price_data):\n",
    "    #Creating the train and test data \n",
    "    #The the Y[i] corresponding to X[i] shpuld be target[t:t+6] when prediction window is 6.\n",
    "    x_train = price_data[:-config[\"prediction_window\"]*2].drop([\"StainlessSteelPrice\",\"Date\"],axis = 1)\n",
    "    x_test  = price_data[-config[\"prediction_window\"]*2: -config[\"prediction_window\"]].drop([\"StainlessSteelPrice\",\"Date\"],axis = 1)\n",
    "\n",
    "    pred_win = config[\"prediction_window\"]\n",
    "    target_train  =  np.array(price_data[\"StainlessSteelPrice\"].iloc[1:-pred_win])\n",
    "    target_test   = np.array(price_data[\"StainlessSteelPrice\"].iloc[-pred_win:])\n",
    "\n",
    "    y_train = np.array([target_train[i:i+pred_win] for i in range(len(target_train)-pred_win+1)])\n",
    "    y_test = np.array(list([target_test])*pred_win)\n",
    "    \n",
    "    return x_train,y_train,x_test,y_test\n",
    "\n",
    "x_train,y_train,x_test,y_test = create_train_test_split(price_data)"
   ]
  },
  {
   "cell_type": "code",
   "execution_count": null,
   "metadata": {},
   "outputs": [],
   "source": []
  },
  {
   "cell_type": "code",
   "execution_count": 5,
   "metadata": {},
   "outputs": [],
   "source": [
    "def normalize(x_train,y_train,x_test,y_test):\n",
    "    #Normalizing the train and test data with standard scaler.\n",
    "    \n",
    "    assert len(x_train) == len(y_train), \"X and Y size missmatch\"\n",
    "    assert len(x_train) == len(y_train), \"X and Y size missmatch\"\n",
    "    scaler  = StandardScaler()\n",
    "    x_train = scaler.fit_transform(x_train)\n",
    "    x_test  = scaler.transform(x_test)\n",
    "    y_train = np.array(y_train)\n",
    "    y_test  = np.array(y_test)\n",
    "    \n",
    "    return x_train,y_train,x_test,y_test\n",
    "\n",
    "x_train,y_train,x_test,y_test = normalize(x_train,y_train,x_test,y_test)"
   ]
  },
  {
   "cell_type": "code",
   "execution_count": 6,
   "metadata": {},
   "outputs": [],
   "source": [
    "def plot_prediction(y_pred,y_test):\n",
    "    plt.plot(price_data[\"Date\"][-config[\"prediction_window\"]:],y_pred, color = 'r',label = \"predited_price\")\n",
    "    plt.plot(price_data[\"Date\"][-config[\"prediction_window\"]:],y_test,color = 'b',label = \"actual_price\")\n",
    "    plt.grid()\n",
    "    plt.ylim(0,1)\n",
    "    plt.legend()\n",
    "    plt.ylabel(\"Price\")\n",
    "    plt.xlabel(\"Time\")"
   ]
  },
  {
   "cell_type": "markdown",
   "metadata": {},
   "source": [
    "### Deep Learning approach\n",
    "#### Used 1 layer LSTM model to predict the output sequecne "
   ]
  },
  {
   "cell_type": "code",
   "execution_count": 7,
   "metadata": {},
   "outputs": [],
   "source": [
    "class CustomDataset(Dataset):\n",
    "    def __init__(self, features,ground_truth, seq_len):\n",
    "        \n",
    "        super(CustomDataset,self).__init__()\n",
    "        self.features = features\n",
    "        self.seq_len = seq_len\n",
    "        self.ground_truth = ground_truth\n",
    "\n",
    "    def __len__(self):\n",
    "        return len(self.features)\n",
    "    \n",
    "    def __getitem__(self,i):\n",
    "        if(i < self.seq_len - 1):\n",
    "            # An ugly block of code to avoid writing collate function in dataloader. \n",
    "            # when we don't have previous timestams data to look back, just repeating the data to make the sequence length equal\n",
    "            temp_seq     = x_train[0:i+1]\n",
    "            repeat_array = np.array([temp_seq[0]] *(self.seq_len - 1 - i))\n",
    "            seq_i        = torch.tensor(np.vstack((repeat_array,temp_seq)))\n",
    "            \n",
    "        else: \n",
    "            \n",
    "            seq_i   = torch.tensor(self.features[i-self.seq_len+1:i+1])\n",
    "            \n",
    "        value_i = torch.tensor(self.ground_truth[i])\n",
    "        \n",
    "        return seq_i,value_i"
   ]
  },
  {
   "cell_type": "code",
   "execution_count": 8,
   "metadata": {},
   "outputs": [],
   "source": [
    "\n",
    "\n",
    "class PriceLSTM(nn.Module):\n",
    "    def __init__(self,input_dim,hidden_dim,output_dim,n_layers,dropout):\n",
    "        \n",
    "        super().__init__()\n",
    "        ######################################\n",
    "        self.input_dim = input_dim\n",
    "        self.hidden_dim = hidden_dim\n",
    "        self.output_dim = output_dim\n",
    "        self.n_layers = n_layers\n",
    "\n",
    "        self.dropout = dropout\n",
    "        self.n_layers = n_layers \n",
    "            \n",
    "        self.LSTM = nn.LSTM(input_dim, hidden_dim,num_layers= self.n_layers, batch_first=True,dropout=dropout)\n",
    "        \n",
    "        self.dropout=nn.Dropout(dropout)\n",
    "        \n",
    "        #Linear \n",
    "        self.fc1=nn.Linear(hidden_dim,16)\n",
    "        self.fc2=nn.Linear(16, 8)\n",
    "        self.fc3=nn.Linear(8,output_dim)\n",
    "\n",
    "        ######################################\n",
    "    def forward(self, input_seq):\n",
    "        ######################################\n",
    "\n",
    "        lstm_out, (hidden,_)=self.LSTM(input_seq)\n",
    "\n",
    "        out = F.relu(lstm_out[:,-1,:])\n",
    "        #dropout and fully connected layers\n",
    "        out = self.dropout(out)\n",
    "        out = self.fc1(out)\n",
    "        out = F.relu(out)\n",
    "\n",
    "        out = self.dropout(out)\n",
    "        out = self.fc2(out)\n",
    "        out = F.relu(out)\n",
    "        out = self.dropout(out)\n",
    "        out = self.fc3(out)\n",
    "        ######################################\n",
    "        return out, hidden"
   ]
  },
  {
   "cell_type": "code",
   "execution_count": 9,
   "metadata": {},
   "outputs": [],
   "source": [
    "def train_evaluate_model(model, criterion, optimizer, train_loader,mode = \"train\"):\n",
    "    if(mode == \"train\"):\n",
    "        model.train()\n",
    "    else:\n",
    "        model.eval()\n",
    "    epoch_loss = 0\n",
    "    epoch_acc = 0\n",
    "\n",
    "    all_preds = []\n",
    "    for inputs, gt in train_loader:\n",
    "        ######################################\n",
    "        inputs,gt = inputs.float(), gt.float()  \n",
    "        optimizer.zero_grad()\n",
    "\n",
    "        outputs,hidden = model(inputs)\n",
    "        loss = criterion(outputs.squeeze(),gt)\n",
    "\n",
    "        epoch_loss += loss.item()\n",
    "\n",
    "        if(mode == \"train\"):\n",
    "            loss.backward()\n",
    "            nn.utils.clip_grad_norm_(model.parameters(), 5) #clipping the gradient to avoid exploding gradient\n",
    "            optimizer.step()\n",
    "        \n",
    "        ######################################\n",
    "        \n",
    "    final_loss =  epoch_loss / len(train_loader)\n",
    "\n",
    "    return final_loss"
   ]
  },
  {
   "cell_type": "code",
   "execution_count": 10,
   "metadata": {},
   "outputs": [],
   "source": [
    "batch_size = 8\n",
    "\n",
    "sequence_length = config[\"rolling_window_len\"]\n",
    "\n",
    "train_dataset = CustomDataset(x_train,y_train, sequence_length)\n",
    "test_dataset  = CustomDataset(x_test,y_test, sequence_length)\n",
    "\n",
    "#create data loader for dynamic batching\n",
    "train_loader = DataLoader(train_dataset, batch_size=batch_size, shuffle=False)\n",
    "test_loader  = DataLoader(test_dataset,batch_size = len(test_dataset), shuffle=False)"
   ]
  },
  {
   "cell_type": "code",
   "execution_count": null,
   "metadata": {},
   "outputs": [],
   "source": []
  },
  {
   "cell_type": "code",
   "execution_count": 11,
   "metadata": {},
   "outputs": [],
   "source": [
    "def MAPE_loss( y_pred,y_true): \n",
    "    # custom loss function for backpropogation\n",
    "    return torch.mean(((y_true - y_pred).abs() / y_true)) "
   ]
  },
  {
   "cell_type": "code",
   "execution_count": 12,
   "metadata": {},
   "outputs": [
    {
     "name": "stdout",
     "output_type": "stream",
     "text": [
      "Epoch: 01\n",
      "\tTrain Loss: 0.699 \t Val. Loss: 0.563\n",
      "Epoch: 02\n",
      "\tTrain Loss: 0.433 \t Val. Loss: 0.310\n",
      "Epoch: 03\n",
      "\tTrain Loss: 0.263 \t Val. Loss: 0.151\n",
      "Epoch: 04\n",
      "\tTrain Loss: 0.213 \t Val. Loss: 0.104\n",
      "Epoch: 05\n",
      "\tTrain Loss: 0.184 \t Val. Loss: 0.091\n",
      "Epoch: 06\n",
      "\tTrain Loss: 0.184 \t Val. Loss: 0.074\n",
      "Epoch: 07\n",
      "\tTrain Loss: 0.180 \t Val. Loss: 0.063\n",
      "Epoch: 08\n",
      "\tTrain Loss: 0.171 \t Val. Loss: 0.059\n",
      "Epoch: 09\n",
      "\tTrain Loss: 0.160 \t Val. Loss: 0.061\n",
      "Epoch: 10\n",
      "\tTrain Loss: 0.160 \t Val. Loss: 0.057\n",
      "Epoch: 11\n",
      "\tTrain Loss: 0.152 \t Val. Loss: 0.052\n",
      "Epoch: 12\n",
      "\tTrain Loss: 0.167 \t Val. Loss: 0.061\n",
      "Epoch: 13\n",
      "\tTrain Loss: 0.163 \t Val. Loss: 0.063\n",
      "Epoch: 14\n",
      "\tTrain Loss: 0.156 \t Val. Loss: 0.061\n",
      "Epoch: 15\n",
      "\tTrain Loss: 0.152 \t Val. Loss: 0.053\n",
      "Epoch: 16\n",
      "\tTrain Loss: 0.157 \t Val. Loss: 0.056\n",
      "Epoch: 17\n",
      "\tTrain Loss: 0.153 \t Val. Loss: 0.055\n",
      "Epoch: 18\n",
      "\tTrain Loss: 0.157 \t Val. Loss: 0.055\n",
      "Epoch: 19\n",
      "\tTrain Loss: 0.156 \t Val. Loss: 0.052\n",
      "Epoch: 20\n",
      "\tTrain Loss: 0.153 \t Val. Loss: 0.058\n"
     ]
    }
   ],
   "source": [
    "NUM_EPOCHS = 20\n",
    "\n",
    "input_dim = x_train.shape[1]\n",
    "output_dim = config[\"prediction_window\"]\n",
    "hidden_dim = 64\n",
    "dropout = 0.5\n",
    "n_layers = 1\n",
    "\n",
    "model = PriceLSTM(input_dim,hidden_dim,output_dim,n_layers,dropout)\n",
    "\n",
    "\n",
    "criterion = MAPE_loss\n",
    "optimizer = torch.optim.SGD(model.parameters(), lr=1e-1)\n",
    "\n",
    "for epoch in range(NUM_EPOCHS):\n",
    "    train_loss = train_evaluate_model(model, criterion, optimizer, train_loader,mode = \"train\")\n",
    "    test_loss = train_evaluate_model(model, criterion, optimizer, test_loader,mode = \"test\")\n",
    "    print(f'Epoch: {epoch+1:02}')\n",
    "    print(f'\\tTrain Loss: {train_loss:.3f} \\t Val. Loss: {test_loss:.3f}')"
   ]
  },
  {
   "cell_type": "code",
   "execution_count": 13,
   "metadata": {},
   "outputs": [],
   "source": [
    "def directional_symnetry(y_pred,y_true):\n",
    "    \n",
    "    y_true, y_pred = np.array(y_true), np.array(y_pred)\n",
    "    ds = np.sum((y_true[1:] - y_true[:-1]) * (y_pred[1:] - y_pred[:-1]) > 0) * 100/len(y_true-1)\n",
    "    \n",
    "    return ds"
   ]
  },
  {
   "cell_type": "code",
   "execution_count": 14,
   "metadata": {},
   "outputs": [],
   "source": [
    "def mean_absolute_percentage_error(y_pred,y_true): \n",
    "    y_true, y_pred = np.array(y_true), np.array(y_pred)\n",
    "    return np.mean(np.abs((y_true - y_pred) / y_true)) * 100\n"
   ]
  },
  {
   "cell_type": "code",
   "execution_count": 15,
   "metadata": {},
   "outputs": [
    {
     "name": "stdout",
     "output_type": "stream",
     "text": [
      "mean_absolute_percentage_error = 6.01 %\n",
      "directional_symnetry = 50.00 %\n"
     ]
    },
    {
     "data": {
      "image/png": "[encoded data removed]",
      "text/plain": [
       "<Figure size 1080x504 with 1 Axes>"
      ]
     },
     "metadata": {
      "needs_background": "light"
     },
     "output_type": "display_data"
    }
   ],
   "source": [
    "model.eval()\n",
    "i = iter(test_loader)\n",
    "test_features,test_labels = i.next()\n",
    "test_features, test_labels = test_features.float(), test_labels.float()\n",
    "outputs,_ = model(test_features)\n",
    "\n",
    "#the last output contains the full sequences, previous ones will contain padded sequences\n",
    "y_pred = outputs[-1].detach().numpy().squeeze()\n",
    "y_test = test_labels[-1].detach().numpy()\n",
    "plot_prediction(y_pred,y_test)\n",
    "print(\"mean_absolute_percentage_error = {:.2f} %\".format(mean_absolute_percentage_error(y_pred,y_test)))\n",
    "print(\"directional_symnetry = {:.2f} %\".format(directional_symnetry(y_pred,y_test)))"
   ]
  },
  {
   "cell_type": "code",
   "execution_count": null,
   "metadata": {},
   "outputs": [],
   "source": []
  },
  {
   "cell_type": "markdown",
   "metadata": {},
   "source": [
    "### Machine Learning approach"
   ]
  },
  {
   "cell_type": "markdown",
   "metadata": {},
   "source": [
    "#### Create features from the rolling window statistics"
   ]
  },
  {
   "cell_type": "code",
   "execution_count": 16,
   "metadata": {},
   "outputs": [],
   "source": [
    "fields = price_data.columns.drop(['Date', 'StainlessSteelPrice']) #feature columns names\n",
    "rolling_window_size = config['rolling_window_len']\n",
    "price_data_stat = price_data.copy()\n",
    "price_data_stat[fields+\"_mean\"] = price_data[fields].rolling(window = rolling_window_size).mean() #statistics of feature columns\n",
    "price_data_stat[fields+\"_std\"] = price_data[fields].rolling(window = rolling_window_size).std()\n",
    "price_data_stat.fillna(method = \"bfill\") # back fill the nan values generated for intial samples.\n",
    "\n",
    "\n",
    "x_train,y_train,x_test,y_test = create_train_test_split(price_data)\n",
    "x_train,y_train,x_test,y_test = normalize(x_train,y_train,x_test,y_test)\n"
   ]
  },
  {
   "cell_type": "code",
   "execution_count": 17,
   "metadata": {},
   "outputs": [
    {
     "data": {
      "text/plain": [
       "GridSearchCV(cv=5, estimator=MultiOutputRegressor(estimator=LGBMRegressor()),\n",
       "             param_grid={'estimator__learning_rate': [0.01, 0.05, 0.1],\n",
       "                         'estimator__max_depth': [2, 3, 4],\n",
       "                         'estimator__n_estimators': [8, 16, 32],\n",
       "                         'estimator__num_leaves': [2, 4, 6]},\n",
       "             return_train_score=True,\n",
       "             scoring=make_scorer(mean_absolute_percentage_error, greater_is_better=False))"
      ]
     },
     "execution_count": 17,
     "metadata": {},
     "output_type": "execute_result"
    }
   ],
   "source": [
    "lgbm = lgb.LGBMRegressor()\n",
    "regr = MultiOutputRegressor(lgbm)\n",
    "#define the grid search space, parameters for grid search.\n",
    "param_grid =  {\n",
    "        'estimator__max_depth': [2,3,4],\n",
    "        \"estimator__num_leaves\": [2,4,6],\n",
    "        'estimator__learning_rate': [0.01, 0.05, 0.1],\n",
    "        'estimator__n_estimators': [8,16,32],\n",
    "        }\n",
    "\n",
    "#since it is a multi out regressor and the parameters are specified for the estimator of the regressor,\n",
    "# have to add prefix 'estimator__' for parameters \n",
    "\n",
    "#creating a custom mean absolute error scoring for grid search.\n",
    "score = make_scorer(mean_absolute_percentage_error, greater_is_better=False)\n",
    "\n",
    "# This grid search will give one estimator for the prediction not forecasting, \n",
    "\n",
    "grid_search = (GridSearchCV(regr, param_grid, cv=5,\n",
    "                           scoring=score,\n",
    "                           return_train_score=True))\n",
    "grid_search.fit(x_train, y_train)"
   ]
  },
  {
   "cell_type": "code",
   "execution_count": 18,
   "metadata": {},
   "outputs": [
    {
     "name": "stdout",
     "output_type": "stream",
     "text": [
      "{'estimator__learning_rate': 0.1, 'estimator__max_depth': 2, 'estimator__n_estimators': 32, 'estimator__num_leaves': 2}\n",
      "MultiOutputRegressor(estimator=LGBMRegressor(max_depth=2, n_estimators=32,\n",
      "                                             num_leaves=2))\n"
     ]
    }
   ],
   "source": [
    "print(grid_search.best_params_)\n",
    "print(grid_search.best_estimator_)\n",
    "#pick the best model\n",
    "final_model = grid_search.best_estimator_\n",
    "y_pred = final_model.predict(x_test)"
   ]
  },
  {
   "cell_type": "code",
   "execution_count": 19,
   "metadata": {},
   "outputs": [
    {
     "name": "stdout",
     "output_type": "stream",
     "text": [
      "mean_absolute_percentage_error = 7.25 %\n",
      "directional_symnetry = 33.33 %\n"
     ]
    },
    {
     "data": {
      "image/png": "[encoded data removed]",
      "text/plain": [
       "<Figure size 1080x504 with 1 Axes>"
      ]
     },
     "metadata": {
      "needs_background": "light"
     },
     "output_type": "display_data"
    }
   ],
   "source": [
    "plot_prediction(y_pred[-1],y_test[-1])\n",
    "print(\"mean_absolute_percentage_error = {:.2f} %\".format(mean_absolute_percentage_error(y_pred[-1],y_test[-1])))\n",
    "print(\"directional_symnetry = {:.2f} %\".format(directional_symnetry(y_pred[-1],y_test[-1])))"
   ]
  },
  {
   "cell_type": "markdown",
   "metadata": {},
   "source": [
    "### Statistical approach\n",
    "#### using Vector Auto Regression (VAR), to handle multi variate time series"
   ]
  },
  {
   "cell_type": "code",
   "execution_count": 20,
   "metadata": {},
   "outputs": [],
   "source": [
    "\n",
    "train = price_data.drop([\"Date\"],axis = 1)[:-config[\"prediction_window\"]]\n",
    "test = price_data.drop([\"Date\"],axis = 1)[-config[\"prediction_window\"]:]\n",
    "\n",
    "#fit the multivariate auto regressor model\n",
    "model = VAR(endog=train)\n",
    "model_fit = model.fit()\n",
    "\n",
    "# make prediction on testing\n",
    "prediction = model_fit.forecast(model_fit.y, steps=len(test))\n",
    "\n",
    "#first column is the desired target variable StainlessSteelPrice\n",
    "prediction = prediction[:,0]"
   ]
  },
  {
   "cell_type": "code",
   "execution_count": null,
   "metadata": {},
   "outputs": [],
   "source": []
  },
  {
   "cell_type": "code",
   "execution_count": 21,
   "metadata": {},
   "outputs": [
    {
     "name": "stdout",
     "output_type": "stream",
     "text": [
      "mean_absolute_percentage_error = 3.15 %\n",
      "directional_symnetry = 50.00 %\n"
     ]
    },
    {
     "data": {
      "image/png": "[encoded data removed]",
      "text/plain": [
       "<Figure size 1080x504 with 1 Axes>"
      ]
     },
     "metadata": {
      "needs_background": "light"
     },
     "output_type": "display_data"
    }
   ],
   "source": [
    "plot_prediction(prediction,test[\"StainlessSteelPrice\"])\n",
    "print(\"mean_absolute_percentage_error = {:.2f} %\".format(mean_absolute_percentage_error(prediction,test[\"StainlessSteelPrice\"])))\n",
    "print(\"directional_symnetry = {:.2f} %\".format(directional_symnetry(prediction,test[\"StainlessSteelPrice\"])))"
   ]
  }
 ],
 "metadata": {
  "kernelspec": {
   "display_name": "Python 3 (ipykernel)",
   "language": "python",
   "name": "python3"
  },
  "language_info": {
   "codemirror_mode": {
    "name": "ipython",
    "version": 3
   },
   "file_extension": ".py",
   "mimetype": "text/x-python",
   "name": "python",
   "nbconvert_exporter": "python",
   "pygments_lexer": "ipython3",
   "version": "3.8.3"
  }
 },
 "nbformat": 4,
 "nbformat_minor": 4
}
